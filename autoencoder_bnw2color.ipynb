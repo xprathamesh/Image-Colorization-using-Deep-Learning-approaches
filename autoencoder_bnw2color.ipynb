{
 "cells": [
  {
   "cell_type": "code",
   "execution_count": 0,
   "metadata": {
    "colab": {},
    "colab_type": "code",
    "id": "Yl_iCJebGO9U"
   },
   "outputs": [],
   "source": [
    "from tensorflow.keras.layers import Dense, Input\n",
    "from tensorflow.keras.layers import Conv2D, Flatten\n",
    "from tensorflow.keras.layers import Reshape, Conv2DTranspose\n",
    "from tensorflow.keras.models import Model\n",
    "from tensorflow.keras.models import load_model\n",
    "from tensorflow.keras.callbacks import ReduceLROnPlateau\n",
    "from tensorflow.keras.callbacks import ModelCheckpoint\n",
    "from tensorflow.keras.utils import plot_model\n",
    "from tensorflow.keras import backend as K\n",
    "\n",
    "import numpy as np\n",
    "import matplotlib.pyplot as plt\n",
    "import os\n",
    "import cv2\n",
    "from google.colab import drive\n",
    "\n",
    "np.random.seed(0)"
   ]
  },
  {
   "cell_type": "code",
   "execution_count": 0,
   "metadata": {
    "colab": {},
    "colab_type": "code",
    "id": "2vIcJGZoGssq"
   },
   "outputs": [],
   "source": [
    "drive.mount('/content/gdrive')\n",
    "os.chdir(\"/content/gdrive/My Drive/Colab Notebooks/DELETE\") "
   ]
  },
  {
   "cell_type": "code",
   "execution_count": 0,
   "metadata": {
    "colab": {},
    "colab_type": "code",
    "id": "wYekM_JPf2nx"
   },
   "outputs": [],
   "source": [
    "# Loading image data from saved npz object. We saved all the pre-processed image data in a npz object.\n",
    "# This was done as reading from image files was a time consuming operation, slowing down experimentation.\n",
    "\n",
    "data = np.load(\"train_test_64_dict.npz\")\n",
    "\n",
    "y_test = data[\"x_test\"]\n",
    "y_train = data[\"x_train\"]\n",
    "row_dim = y_train.shape[1]\n",
    "col_dim = y_train.shape[2]\n",
    "depth_dim = y_train.shape[3]\n",
    "os.chdir(\"/content/gdrive/My Drive/Colab Notebooks/DELETE\") \n",
    "\n",
    "# create saved_images folder\n",
    "img_path = 'saved_images_imagenet'\n",
    "save_path = os.path.join(os.getcwd(), img_path)\n",
    "if not os.path.isdir(save_path):\n",
    "        os.makedirs(save_path)"
   ]
  },
  {
   "cell_type": "code",
   "execution_count": 0,
   "metadata": {
    "colab": {
     "base_uri": "https://localhost:8080/",
     "height": 1000
    },
    "colab_type": "code",
    "id": "kIp-cfH1GZhK",
    "outputId": "dcc275e5-b157-4c1b-9403-f8238e24d865"
   },
   "outputs": [
    {
     "name": "stdout",
     "output_type": "stream",
     "text": [
      "['dog', 'truck', 'car', 'horse cart', 'ship', 'purple clematis', 'armhole', 'dolphin', 'tapestry', 'wood ant', 'nasturtium', 'tarragon', 'wort', 'plover', 'masquerader', 'toga', 'Rhodesian ridgeback', 'marshmallow', 'pull chain', 'wicket', 'conference room', 'priest', 'kit fox', 'zebu', 'post', 'koala', 'ziggurat', 'hamburger', 'New World warbler', 'pahautea', 'vitamin pill', 'giant kangaroo', 'china cabinet', 'cabin', 'gaboon viper', 'dial', 'engine', 'tailorbird', 'transvestite', 'loft', 'purple grackle', 'hill', 'patchwork', 'Black woman', 'furrow', 'soul patch', 'basilica', 'necklet', 'solar heater', 'jack', 'exhibitionist', 'blackbird', 'barred owl', 'southern buckthorn', 'sweet melon', 'spume', 'silverback', 'refracting telescope', 'johnnycake', 'water moccasin', 'liparis', 'oilcloth', 'bomber jacket', 'private', 'net', 'barberry', 'skin', 'hack', 'in-law', 'drawing chalk', 'currant', 'fur seal', 'ironmongery', 'swift', 'ormer', 'golliwog', 'pajama', 'generator', 'rosemary', 'first lady', 'clock pendulum', 'tostada', 'kauri', 'painter', 'honeybee', 'anthurium', 'armor plate', 'songstress', 'metropolitan', 'figure skating', 'Coca Cola', 'mountain lily', 'bufflehead', 'sign', 'grey', 'cabinet', 'bulb', 'lederhosen', 'flour', 'hijab', 'whip-snake', 'dais', 'police van', 'bullhorn', 'reddish orange']\n",
      "dog\n",
      "truck\n",
      "car\n",
      "horse cart\n",
      "ship\n",
      "purple clematis\n",
      "armhole\n",
      "dolphin\n",
      "tapestry\n",
      "wood ant\n",
      "nasturtium\n",
      "tarragon\n",
      "wort\n",
      "plover\n",
      "masquerader\n",
      "toga\n",
      "Rhodesian ridgeback\n",
      "marshmallow\n",
      "pull chain\n",
      "wicket\n",
      "conference room\n",
      "priest\n",
      "kit fox\n",
      "zebu\n",
      "post\n",
      "koala\n",
      "ziggurat\n",
      "hamburger\n",
      "New World warbler\n",
      "pahautea\n",
      "vitamin pill\n",
      "giant kangaroo\n",
      "china cabinet\n",
      "cabin\n",
      "gaboon viper\n",
      "dial\n",
      "engine\n",
      "tailorbird\n",
      "transvestite\n",
      "loft\n",
      "purple grackle\n",
      "hill\n",
      "patchwork\n",
      "Black woman\n",
      "furrow\n",
      "soul patch\n",
      "basilica\n",
      "necklet\n",
      "solar heater\n",
      "jack\n",
      "exhibitionist\n",
      "blackbird\n",
      "barred owl\n",
      "southern buckthorn\n",
      "sweet melon\n",
      "spume\n",
      "silverback\n",
      "refracting telescope\n",
      "johnnycake\n",
      "water moccasin\n",
      "liparis\n",
      "oilcloth\n",
      "bomber jacket\n",
      "private\n",
      "net\n",
      "barberry\n",
      "skin\n",
      "hack\n",
      "in-law\n",
      "drawing chalk\n",
      "currant\n",
      "fur seal\n",
      "ironmongery\n",
      "swift\n",
      "ormer\n",
      "golliwog\n",
      "pajama\n",
      "generator\n",
      "rosemary\n",
      "first lady\n",
      "clock pendulum\n",
      "tostada\n",
      "kauri\n",
      "painter\n",
      "honeybee\n",
      "anthurium\n",
      "armor plate\n",
      "songstress\n",
      "metropolitan\n",
      "figure skating\n",
      "Coca Cola\n",
      "mountain lily\n",
      "bufflehead\n",
      "sign\n",
      "grey\n",
      "cabinet\n",
      "bulb\n",
      "lederhosen\n",
      "flour\n",
      "hijab\n",
      "whip-snake\n",
      "dais\n",
      "police van\n",
      "bullhorn\n",
      "reddish orange\n",
      "(18738, 64, 64, 3) (2135, 64, 64, 3)\n",
      "dog 117\n",
      "truck 114\n",
      "car 117\n",
      "horse cart 116\n",
      "ship 115\n",
      "purple clematis 206\n",
      "armhole 200\n",
      "dolphin 207\n",
      "tapestry 203\n",
      "wood ant 197\n",
      "nasturtium 206\n",
      "tarragon 189\n",
      "wort 201\n",
      "plover 206\n",
      "masquerader 205\n",
      "toga 206\n",
      "Rhodesian ridgeback 205\n",
      "marshmallow 205\n",
      "pull chain 169\n",
      "wicket 206\n",
      "conference room 207\n",
      "priest 206\n",
      "kit fox 206\n",
      "zebu 202\n",
      "post 206\n",
      "koala 207\n",
      "ziggurat 205\n",
      "hamburger 207\n",
      "New World warbler 204\n",
      "pahautea 204\n",
      "vitamin pill 204\n",
      "giant kangaroo 194\n",
      "china cabinet 207\n",
      "cabin 202\n",
      "gaboon viper 186\n",
      "dial 204\n",
      "engine 205\n",
      "tailorbird 198\n",
      "transvestite 203\n",
      "loft 204\n",
      "purple grackle 190\n",
      "hill 207\n",
      "patchwork 207\n",
      "Black woman 206\n",
      "furrow 207\n",
      "soul patch 206\n",
      "basilica 205\n",
      "necklet 207\n",
      "solar heater 196\n",
      "jack 205\n",
      "exhibitionist 207\n",
      "blackbird 206\n",
      "barred owl 207\n",
      "southern buckthorn 207\n",
      "sweet melon 205\n",
      "spume 207\n",
      "silverback 206\n",
      "refracting telescope 204\n",
      "johnnycake 185\n",
      "water moccasin 188\n",
      "liparis 201\n",
      "oilcloth 202\n",
      "bomber jacket 202\n",
      "private 203\n",
      "net 202\n",
      "barberry 206\n",
      "skin 205\n",
      "hack 207\n",
      "in-law 207\n",
      "drawing chalk 205\n",
      "currant 206\n",
      "fur seal 206\n",
      "ironmongery 207\n",
      "swift 202\n",
      "ormer 205\n",
      "golliwog 206\n",
      "pajama 205\n",
      "generator 184\n",
      "rosemary 203\n",
      "first lady 207\n",
      "clock pendulum 200\n",
      "tostada 206\n",
      "kauri 204\n",
      "painter 207\n",
      "honeybee 205\n",
      "anthurium 206\n",
      "armor plate 201\n",
      "songstress 201\n",
      "metropolitan 205\n",
      "figure skating 205\n",
      "Coca Cola 205\n",
      "mountain lily 206\n",
      "bufflehead 195\n",
      "sign 206\n",
      "grey 203\n",
      "cabinet 207\n",
      "bulb 206\n",
      "lederhosen 205\n",
      "flour 204\n",
      "hijab 205\n",
      "whip-snake 190\n",
      "dais 204\n",
      "police van 205\n",
      "bullhorn 206\n",
      "reddish orange 206\n"
     ]
    },
    {
     "data": {
      "image/png": "[encoded data removed]",
      "text/plain": [
       "<Figure size 432x288 with 1 Axes>"
      ]
     },
     "metadata": {
      "needs_background": "light",
      "tags": []
     },
     "output_type": "display_data"
    }
   ],
   "source": [
    "### IF NOT LOADING FROM DICTIONARY AS ABOVE ###\n",
    "\n",
    "# Load the ImageNet data from files\n",
    "\n",
    "os.chdir(\"/content/gdrive/My Drive/Colab Notebooks/DELETE/imagenet/imagenet_images/\") \n",
    "\n",
    "y_train = []\n",
    "y_test = []\n",
    "print(os.listdir(\".\"))\n",
    "for folder in os.listdir(\".\"):\n",
    "  y_folder = []\n",
    "  print(folder)\n",
    "  for img in os.listdir(\"./\" + folder):\n",
    "    # Resize to (64, 64) to speed up training\n",
    "    y_folder.append(cv2.resize(cv2.cvtColor(cv2.imread(\"./\" + folder +\"/\"+ img), cv2.COLOR_BGR2RGB), (64, 64)))\n",
    "\n",
    "  # Split into train and test data\n",
    "  split = len(y_folder)\n",
    "  f_split = (split * 9) // 10\n",
    "  y_train += y_folder[:f_split]\n",
    "  y_test += y_folder[f_split:]\n",
    "\n",
    "y_test = np.array(y_test)\n",
    "y_train = np.array(y_train)\n",
    "print(y_train.shape, y_test.shape)\n",
    "\n",
    "batch_select = np.arange(len(y_train))\n",
    "np.random.shuffle(batch_select)\n",
    "y_train = np.array(y_train)[batch_select]\n",
    "plt.imshow(y_train[98])\n",
    "\n",
    "# Get counts of data from each class. NOTE: For our problem, all images are considered as belonging to one class: \"Grayscale\"\n",
    "for item in os.listdir(\".\"):\n",
    "  cpt = sum([len(files) for r, d, files in os.walk(\"./\" + item)])\n",
    "  print(item, cpt)\n",
    "\n",
    "\n",
    "row_dim = y_train.shape[1]\n",
    "col_dim = y_train.shape[2]\n",
    "depth_dim = y_train.shape[3]\n",
    "os.chdir(\"/content/gdrive/My Drive/Colab Notebooks/DELETE\") \n",
    "\n",
    "# Output folder\n",
    "img_path = 'saved_images_imagenet'\n",
    "save_path = os.path.join(os.getcwd(), img_path)\n",
    "if not os.path.isdir(save_path):\n",
    "        os.makedirs(save_path)"
   ]
  },
  {
   "cell_type": "code",
   "execution_count": 0,
   "metadata": {
    "colab": {
     "base_uri": "https://localhost:8080/",
     "height": 285
    },
    "colab_type": "code",
    "id": "pSc0Iwo2ZIAr",
    "outputId": "62b52084-e1d6-4530-81db-07190202eedd"
   },
   "outputs": [
    {
     "data": {
      "text/plain": [
       "<matplotlib.image.AxesImage at 0x7faa2be0c048>"
      ]
     },
     "execution_count": 9,
     "metadata": {
      "tags": []
     },
     "output_type": "execute_result"
    },
    {
     "data": {
      "image/png": "[encoded data removed]",
      "text/plain": [
       "<Figure size 432x288 with 1 Axes>"
      ]
     },
     "metadata": {
      "needs_background": "light",
      "tags": []
     },
     "output_type": "display_data"
    }
   ],
   "source": [
    "plt.imshow(y_train[0])"
   ]
  },
  {
   "cell_type": "code",
   "execution_count": 0,
   "metadata": {
    "colab": {},
    "colab_type": "code",
    "id": "AAv0n3ntHfFU"
   },
   "outputs": [],
   "source": [
    "def rgb2gray(rgb):\n",
    "    return np.dot(rgb[...,:3], [0.299, 0.587, 0.114])\n",
    "\n",
    "# convert color train and test images to gray\n",
    "x_train = rgb2gray(y_train)\n",
    "x_test = rgb2gray(y_test)"
   ]
  },
  {
   "cell_type": "code",
   "execution_count": 0,
   "metadata": {
    "colab": {},
    "colab_type": "code",
    "id": "exXJ78ArHhtZ"
   },
   "outputs": [],
   "source": [
    "# Normalize train and test images and reshape them for the model input\n",
    "\n",
    "y_train = y_train.astype('float32') / 255\n",
    "y_test = y_test.astype('float32') / 255\n",
    "\n",
    "x_train = x_train.astype('float32') / 255\n",
    "x_test = x_test.astype('float32') / 255\n",
    "\n",
    "y_train = y_train.reshape(y_train.shape[0], row_dim, col_dim, depth_dim)\n",
    "y_test = y_test.reshape(y_test.shape[0], row_dim, col_dim, depth_dim)\n",
    "\n",
    "x_train = x_train.reshape(x_train.shape[0], row_dim, col_dim, 1)\n",
    "x_test = x_test.reshape(x_test.shape[0], row_dim, col_dim, 1)"
   ]
  },
  {
   "cell_type": "code",
   "execution_count": 0,
   "metadata": {
    "colab": {},
    "colab_type": "code",
    "id": "fzAjxUrkHlc9"
   },
   "outputs": [],
   "source": [
    "# Model_parameters\n",
    "\n",
    "input_shape = (row_dim, col_dim, 1)\n",
    "batch_size = 32\n",
    "kernel_size = 3\n",
    "latent_dim = 512 \n",
    "filter_sizes = [64, 128, 256, 512]"
   ]
  },
  {
   "cell_type": "code",
   "execution_count": 0,
   "metadata": {
    "colab": {
     "base_uri": "https://localhost:8080/",
     "height": 1000
    },
    "colab_type": "code",
    "id": "vrxRmJNiHnbw",
    "outputId": "bb0a0948-4dc3-47db-e551-18e23b0af878"
   },
   "outputs": [
    {
     "name": "stdout",
     "output_type": "stream",
     "text": [
      "Model: \"encoder\"\n",
      "_________________________________________________________________\n",
      "Layer (type)                 Output Shape              Param #   \n",
      "=================================================================\n",
      "encoder_input (InputLayer)   [(None, 64, 64, 1)]       0         \n",
      "_________________________________________________________________\n",
      "conv2d (Conv2D)              (None, 32, 32, 64)        640       \n",
      "_________________________________________________________________\n",
      "conv2d_1 (Conv2D)            (None, 16, 16, 128)       73856     \n",
      "_________________________________________________________________\n",
      "conv2d_2 (Conv2D)            (None, 8, 8, 256)         295168    \n",
      "_________________________________________________________________\n",
      "conv2d_3 (Conv2D)            (None, 4, 4, 512)         1180160   \n",
      "_________________________________________________________________\n",
      "flatten (Flatten)            (None, 8192)              0         \n",
      "_________________________________________________________________\n",
      "latent_vector (Dense)        (None, 512)               4194816   \n",
      "=================================================================\n",
      "Total params: 5,744,640\n",
      "Trainable params: 5,744,640\n",
      "Non-trainable params: 0\n",
      "_________________________________________________________________\n",
      "Model: \"decoder\"\n",
      "_________________________________________________________________\n",
      "Layer (type)                 Output Shape              Param #   \n",
      "=================================================================\n",
      "decoder_input (InputLayer)   [(None, 512)]             0         \n",
      "_________________________________________________________________\n",
      "dense (Dense)                (None, 8192)              4202496   \n",
      "_________________________________________________________________\n",
      "reshape (Reshape)            (None, 4, 4, 512)         0         \n",
      "_________________________________________________________________\n",
      "conv2d_transpose (Conv2DTran (None, 8, 8, 512)         2359808   \n",
      "_________________________________________________________________\n",
      "conv2d_transpose_1 (Conv2DTr (None, 16, 16, 256)       1179904   \n",
      "_________________________________________________________________\n",
      "conv2d_transpose_2 (Conv2DTr (None, 32, 32, 128)       295040    \n",
      "_________________________________________________________________\n",
      "conv2d_transpose_3 (Conv2DTr (None, 64, 64, 64)        73792     \n",
      "_________________________________________________________________\n",
      "decoder_output (Conv2DTransp (None, 64, 64, 3)         1731      \n",
      "=================================================================\n",
      "Total params: 8,112,771\n",
      "Trainable params: 8,112,771\n",
      "Non-trainable params: 0\n",
      "_________________________________________________________________\n",
      "Model: \"autoencoder\"\n",
      "_________________________________________________________________\n",
      "Layer (type)                 Output Shape              Param #   \n",
      "=================================================================\n",
      "encoder_input (InputLayer)   [(None, 64, 64, 1)]       0         \n",
      "_________________________________________________________________\n",
      "encoder (Model)              (None, 512)               5744640   \n",
      "_________________________________________________________________\n",
      "decoder (Model)              (None, 64, 64, 3)         8112771   \n",
      "=================================================================\n",
      "Total params: 13,857,411\n",
      "Trainable params: 13,857,411\n",
      "Non-trainable params: 0\n",
      "_________________________________________________________________\n"
     ]
    }
   ],
   "source": [
    "# An autoencoder is constructed using a combination of encoder and decoder stages.\n",
    "# We construct a simple 4 conv layered encoder, followed by a decoder and then attach these two models\n",
    "################################################################################\n",
    "# Encoder\n",
    "################################################################################\n",
    "\n",
    "inputs = Input(shape=input_shape, name='encoder_input')\n",
    "x = inputs\n",
    "\n",
    "# Conv layers as described in filter_sizes\n",
    "for filters in filter_sizes:\n",
    "    x = Conv2D(filters=filters,\n",
    "               kernel_size=kernel_size,\n",
    "               strides=2,\n",
    "               activation='relu',\n",
    "               padding='same')(x)\n",
    "\n",
    "# Will be used for the first layer from the latent space to the deocder.\n",
    "shape = K.int_shape(x)\n",
    "x = Flatten()(x)\n",
    "latent_space = Dense(latent_dim, name='latent_vector')(x)\n",
    "encoder = Model(inputs, latent_space, name='encoder')\n",
    "encoder.summary()\n",
    "\n",
    "\n",
    "################################################################################\n",
    "# Decoder\n",
    "################################################################################\n",
    "\n",
    "latent_inputs = Input(shape=(latent_dim,), name='decoder_input')\n",
    "x = Dense(shape[1]*shape[2]*shape[3])(latent_inputs)\n",
    "\n",
    "# Getting back the shape from the Flattened latent_space\n",
    "x = Reshape((shape[1], shape[2], shape[3]))(x)\n",
    "\n",
    "# Reconstruct in reverse order of encoder\n",
    "for filters in filter_sizes[::-1]:\n",
    "    x = Conv2DTranspose(filters=filters,\n",
    "                        kernel_size=kernel_size,\n",
    "                        strides=2,\n",
    "                        activation='relu',\n",
    "                        padding='same')(x)\n",
    "\n",
    "outputs = Conv2DTranspose(filters=depth_dim,\n",
    "                          kernel_size=kernel_size,\n",
    "                          activation='sigmoid',\n",
    "                          padding='same',\n",
    "                          name='decoder_output')(x)\n",
    "\n",
    "decoder = Model(latent_inputs, outputs, name='decoder')\n",
    "decoder.summary()\n",
    "\n",
    "################################################################################\n",
    "# Constructing the Autoencoder from the Encoder and Decoder\n",
    "################################################################################\n",
    "\n",
    "autoencoder = Model(inputs, decoder(encoder(inputs)), name='autoencoder')\n",
    "autoencoder.summary()\n",
    "\n",
    "autoencoder.compile(loss='mse', optimizer='adam', metrics=[\"accuracy\"])\n",
    "################################################################################"
   ]
  },
  {
   "cell_type": "code",
   "execution_count": 0,
   "metadata": {
    "colab": {},
    "colab_type": "code",
    "id": "nqKGqC0OHuuM"
   },
   "outputs": [],
   "source": [
    "save_path = os.path.join(os.getcwd(), 'saved_models_imagenet_latent512_64_512_layer')\n",
    "model_name = 'autoencoder_model_imagenet.{epoch:03d}.h5'\n",
    "if not os.path.isdir(save_path):\n",
    "        os.makedirs(save_path)\n",
    "filepath = os.path.join(save_path, model_name)"
   ]
  },
  {
   "cell_type": "code",
   "execution_count": 0,
   "metadata": {
    "colab": {},
    "colab_type": "code",
    "id": "-Kr9vHCjHyQE"
   },
   "outputs": [],
   "source": [
    "# Adaptive LR, decreases on plateau of 5 epochs \n",
    "adaptive_lr = ReduceLROnPlateau(factor=np.sqrt(0.1),\n",
    "                               patience=5,\n",
    "                               min_lr=0.5e-6)\n",
    "\n",
    "checkpoint = ModelCheckpoint(filepath=filepath,\n",
    "                             monitor='val_loss',\n",
    "                             verbose=1,\n",
    "                             save_best_only=True)\n",
    "\n",
    "callbacks = [adaptive_lr, checkpoint]"
   ]
  },
  {
   "cell_type": "code",
   "execution_count": 0,
   "metadata": {
    "colab": {},
    "colab_type": "code",
    "id": "umoNKRnriyIY"
   },
   "outputs": [],
   "source": [
    "history = autoencoder.fit(x_train,\n",
    "                y_train,\n",
    "                validation_data=(x_test, y_test),\n",
    "                epochs=30,\n",
    "                batch_size=batch_size,\n",
    "                callbacks=callbacks)"
   ]
  },
  {
   "cell_type": "code",
   "execution_count": 0,
   "metadata": {
    "colab": {
     "base_uri": "https://localhost:8080/",
     "height": 658
    },
    "colab_type": "code",
    "id": "3zJSNtDJGO9C",
    "outputId": "74ec88a9-d917-415b-d57d-91590b1023be"
   },
   "outputs": [
    {
     "name": "stdout",
     "output_type": "stream",
     "text": [
      "loss\n",
      "accuracy\n",
      "val_loss\n",
      "val_accuracy\n",
      "lr\n"
     ]
    },
    {
     "data": {
      "image/png": "[encoded data removed]",
      "text/plain": [
       "<Figure size 432x288 with 1 Axes>"
      ]
     },
     "metadata": {
      "needs_background": "light",
      "tags": []
     },
     "output_type": "display_data"
    },
    {
     "data": {
      "image/png": "[encoded data removed]",
      "text/plain": [
       "<Figure size 432x288 with 1 Axes>"
      ]
     },
     "metadata": {
      "needs_background": "light",
      "tags": []
     },
     "output_type": "display_data"
    }
   ],
   "source": [
    "for k,v in history.history.items():\n",
    "  print(k)\n",
    "\n",
    "# Plot accuracy values\n",
    "plt.plot(history.history['accuracy'])\n",
    "plt.plot(history.history['val_accuracy'])\n",
    "plt.title('Model accuracy for ImageNet data')\n",
    "plt.ylabel('Accuracy')\n",
    "plt.xlabel('Epoch')\n",
    "plt.legend(['Train', 'Test'], loc='upper left')\n",
    "plt.savefig(\"64_imagenet_acc_plot.jpeg\")\n",
    "plt.show()\n",
    "\n",
    "# Plot loss values\n",
    "plt.plot(history.history['loss'])\n",
    "plt.plot(history.history['val_loss'])\n",
    "plt.title('Model loss for ImageNet data')\n",
    "plt.ylabel('Loss')\n",
    "plt.xlabel('Epoch')\n",
    "plt.legend(['Train', 'Test'], loc='upper left')\n",
    "plt.savefig(\"64_imagenet_loss_plot.jpeg\")"
   ]
  },
  {
   "cell_type": "code",
   "execution_count": 0,
   "metadata": {
    "colab": {},
    "colab_type": "code",
    "id": "eIN4ziloH112"
   },
   "outputs": [],
   "source": [
    "x_decoded = autoencoder.predict(x_test)"
   ]
  },
  {
   "cell_type": "code",
   "execution_count": 0,
   "metadata": {
    "colab": {
     "base_uri": "https://localhost:8080/",
     "height": 268
    },
    "colab_type": "code",
    "id": "xyGiJSnIH4bm",
    "outputId": "cfa6d30b-3c9f-475d-989e-f81b584cd560"
   },
   "outputs": [
    {
     "data": {
      "image/png": "[encoded data removed]",
      "text/plain": [
       "<Figure size 432x288 with 1 Axes>"
      ]
     },
     "metadata": {
      "needs_background": "light",
      "tags": []
     },
     "output_type": "display_data"
    }
   ],
   "source": [
    "plt.imshow(x_decoded[49].reshape(row_dim, col_dim, depth_dim))\n",
    "plt.savefig('%s/decoded_64_latent512_49_512layer.png' % img_path)"
   ]
  },
  {
   "cell_type": "code",
   "execution_count": 0,
   "metadata": {
    "colab": {
     "base_uri": "https://localhost:8080/",
     "height": 268
    },
    "colab_type": "code",
    "id": "E6i3JnHLMtcc",
    "outputId": "00c9740e-729f-47f8-f0d4-871dad94ea13"
   },
   "outputs": [
    {
     "data": {
      "image/png": "[encoded data removed]",
      "text/plain": [
       "<Figure size 432x288 with 1 Axes>"
      ]
     },
     "metadata": {
      "needs_background": "light",
      "tags": []
     },
     "output_type": "display_data"
    }
   ],
   "source": [
    "# autoencoder.save(\"working_color_imagenet_64_latent1024_512_layer.h5\")\n",
    "plt.imshow(y_test[49].reshape(row_dim, col_dim, depth_dim))\n",
    "plt.savefig('%s/original_64_latent512_49_512layer.png' % img_path)"
   ]
  },
  {
   "cell_type": "code",
   "execution_count": 0,
   "metadata": {
    "colab": {},
    "colab_type": "code",
    "id": "bo4Tgq0WNWpr"
   },
   "outputs": [],
   "source": [
    "# Code to load model for testing purposes\n",
    "\n",
    "# from tensorflow.keras.models import load_model\n",
    "# autoencoder = load_model(\"working_color_imagenet_64_latent1024_512_layer.h5\")"
   ]
  },
  {
   "cell_type": "code",
   "execution_count": 0,
   "metadata": {
    "colab": {},
    "colab_type": "code",
    "id": "t044vDrCQkww"
   },
   "outputs": [],
   "source": [
    "############################################################################\n",
    "# Code for downloading Imagenet data\n",
    "#\n",
    "# ! git clone https://github.com/mf1024/ImageNet-Datasets-Downloader.git\n",
    "# os.chdir(\"/content/gdrive/My Drive/Colab Notebooks/DELETE/ImageNet-Datasets-Downloader\") \n",
    "\n",
    "\n",
    "# # ! python ./downloader.py -data_root ../imagenet \\\n",
    "# #       -use_class_list True \\\n",
    "# #       -class_list n02084071 n04490091 n02958343 n03538406 n04194289 \\\n",
    "# #       -images_per_class 110 \n",
    "# !python ./downloader.py \\\n",
    "#     -data_root ../imagenet \\\n",
    "#     -number_of_classes 100 \\\n",
    "#     -images_per_class 200"
   ]
  }
 ],
 "metadata": {
  "accelerator": "TPU",
  "colab": {
   "collapsed_sections": [],
   "machine_shape": "hm",
   "name": "Grayscale to RGB Image",
   "provenance": []
  },
  "kernelspec": {
   "display_name": "Python 3",
   "language": "python",
   "name": "python3"
  },
  "language_info": {
   "codemirror_mode": {
    "name": "ipython",
    "version": 3
   },
   "file_extension": ".py",
   "mimetype": "text/x-python",
   "name": "python",
   "nbconvert_exporter": "python",
   "pygments_lexer": "ipython3",
   "version": "3.7.4"
  }
 },
 "nbformat": 4,
 "nbformat_minor": 1
}
